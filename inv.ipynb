{
 "cells": [
  {
   "cell_type": "code",
   "execution_count": 3,
   "id": "a6c55a28",
   "metadata": {},
   "outputs": [],
   "source": [
    "import numpy as np\n",
    "from scipy.io import loadmat\n",
    "from sklearn.neighbors import NearestNeighbors\n",
    "from sklearn.mixture import GaussianMixture\n",
    "from sklearn.preprocessing import StandardScaler\n",
    "from matplotlib import pyplot as plt\n",
    "import os\n",
    "import seaborn as sns"
   ]
  },
  {
   "cell_type": "code",
   "execution_count": 2,
   "id": "ddf6e021",
   "metadata": {},
   "outputs": [],
   "source": [
    "def load_and_combine(mat_files):\n",
    "    X_combined, Y_combined = [], []\n",
    "    for file in mat_files:\n",
    "        data = loadmat(file)\n",
    "        X = data['X_4d']  # 确保变量名与.mat文件中的一致\n",
    "        Y = data['Y_2d']  # 如果维度是(4, n_samples)，需转置为X.T\n",
    "        X_combined.append(X)\n",
    "        Y_combined.append(Y)\n",
    "    return np.vstack(X_combined), np.vstack(Y_combined)\n",
    "\n",
    "folder = \"data\"\n",
    "with os.scandir(folder) as entries:\n",
    "    mat_files = [entry.path for entry in entries if entry.name.endswith('.mat') and entry.is_file()]\n",
    "X, Y = load_and_combine(mat_files)"
   ]
  },
  {
   "cell_type": "markdown",
   "id": "8bc9084e",
   "metadata": {},
   "source": [
    "可视化"
   ]
  },
  {
   "cell_type": "code",
   "execution_count": 4,
   "id": "8d3ceb0a",
   "metadata": {},
   "outputs": [
    {
     "ename": "NameError",
     "evalue": "name 'X' is not defined",
     "output_type": "error",
     "traceback": [
      "\u001b[0;31m---------------------------------------------------------------------------\u001b[0m",
      "\u001b[0;31mNameError\u001b[0m                                 Traceback (most recent call last)",
      "Cell \u001b[0;32mIn[4], line 2\u001b[0m\n\u001b[1;32m      1\u001b[0m \u001b[38;5;28;01mimport\u001b[39;00m \u001b[38;5;21;01mpandas\u001b[39;00m \u001b[38;5;28;01mas\u001b[39;00m \u001b[38;5;21;01mpd\u001b[39;00m\n\u001b[0;32m----> 2\u001b[0m data \u001b[38;5;241m=\u001b[39m pd\u001b[38;5;241m.\u001b[39mDataFrame(np\u001b[38;5;241m.\u001b[39mhstack([\u001b[43mX\u001b[49m, Y]), columns\u001b[38;5;241m=\u001b[39m[\u001b[38;5;124m'\u001b[39m\u001b[38;5;124mx1\u001b[39m\u001b[38;5;124m'\u001b[39m, \u001b[38;5;124m'\u001b[39m\u001b[38;5;124mx2\u001b[39m\u001b[38;5;124m'\u001b[39m,\u001b[38;5;124m'\u001b[39m\u001b[38;5;124mx3\u001b[39m\u001b[38;5;124m'\u001b[39m,\u001b[38;5;124m'\u001b[39m\u001b[38;5;124mx4\u001b[39m\u001b[38;5;124m'\u001b[39m, \u001b[38;5;124m'\u001b[39m\u001b[38;5;124mt\u001b[39m\u001b[38;5;124m'\u001b[39m, \u001b[38;5;124m'\u001b[39m\u001b[38;5;124momg\u001b[39m\u001b[38;5;124m'\u001b[39m])\n\u001b[1;32m      3\u001b[0m sns\u001b[38;5;241m.\u001b[39mpairplot(data,diag_kind\u001b[38;5;241m=\u001b[39m\u001b[38;5;124m\"\u001b[39m\u001b[38;5;124mkde\u001b[39m\u001b[38;5;124m\"\u001b[39m,kind\u001b[38;5;241m=\u001b[39m\u001b[38;5;124m\"\u001b[39m\u001b[38;5;124mscatter\u001b[39m\u001b[38;5;124m\"\u001b[39m,x_vars\u001b[38;5;241m=\u001b[39m[\u001b[38;5;124m'\u001b[39m\u001b[38;5;124mx1\u001b[39m\u001b[38;5;124m'\u001b[39m, \u001b[38;5;124m'\u001b[39m\u001b[38;5;124mx2\u001b[39m\u001b[38;5;124m'\u001b[39m,\u001b[38;5;124m'\u001b[39m\u001b[38;5;124mx3\u001b[39m\u001b[38;5;124m'\u001b[39m,\u001b[38;5;124m'\u001b[39m\u001b[38;5;124mx4\u001b[39m\u001b[38;5;124m'\u001b[39m],y_vars\u001b[38;5;241m=\u001b[39m[\u001b[38;5;124m'\u001b[39m\u001b[38;5;124mt\u001b[39m\u001b[38;5;124m'\u001b[39m, \u001b[38;5;124m'\u001b[39m\u001b[38;5;124momg\u001b[39m\u001b[38;5;124m'\u001b[39m],plot_kws\u001b[38;5;241m=\u001b[39m\u001b[38;5;28mdict\u001b[39m(s\u001b[38;5;241m=\u001b[39m\u001b[38;5;241m50\u001b[39m,edgecolor\u001b[38;5;241m=\u001b[39m\u001b[38;5;124m\"\u001b[39m\u001b[38;5;124mw\u001b[39m\u001b[38;5;124m\"\u001b[39m,color\u001b[38;5;241m=\u001b[39m\u001b[38;5;124m\"\u001b[39m\u001b[38;5;124mg\u001b[39m\u001b[38;5;124m\"\u001b[39m,alpha\u001b[38;5;241m=\u001b[39m\u001b[38;5;241m.5\u001b[39m))\n\u001b[1;32m      4\u001b[0m plt\u001b[38;5;241m.\u001b[39mshow()\n",
      "\u001b[0;31mNameError\u001b[0m: name 'X' is not defined"
     ]
    }
   ],
   "source": [
    "import pandas as pd\n",
    "data = pd.DataFrame(np.hstack([X, Y]), columns=['x1', 'x2','x3','x4', 't', 'omg'])\n",
    "sns.pairplot(data,diag_kind=\"kde\",kind=\"scatter\",x_vars=['x1', 'x2','x3','x4'],y_vars=['t', 'omg'],plot_kws=dict(s=50,edgecolor=\"w\",color=\"g\",alpha=.5))\n",
    "plt.show()"
   ]
  },
  {
   "cell_type": "markdown",
   "id": "712c32e7",
   "metadata": {},
   "source": [
    "模型训练"
   ]
  },
  {
   "cell_type": "code",
   "execution_count": 1,
   "id": "c9e7494d",
   "metadata": {},
   "outputs": [],
   "source": [
    "import torch\n",
    "import torch.optim as optim\n",
    "from torch.utils.data import Dataset, DataLoader, TensorDataset\n",
    "from model.vae import CVAE\n",
    "from src.utils import loss_fn"
   ]
  },
  {
   "cell_type": "code",
   "execution_count": 6,
   "id": "85b5ecd3",
   "metadata": {},
   "outputs": [
    {
     "ename": "NameError",
     "evalue": "name 'X' is not defined",
     "output_type": "error",
     "traceback": [
      "\u001b[0;31m---------------------------------------------------------------------------\u001b[0m",
      "\u001b[0;31mNameError\u001b[0m                                 Traceback (most recent call last)",
      "Cell \u001b[0;32mIn[6], line 1\u001b[0m\n\u001b[0;32m----> 1\u001b[0m X_tensor \u001b[38;5;241m=\u001b[39m torch\u001b[38;5;241m.\u001b[39mtensor(\u001b[43mX\u001b[49m, dtype\u001b[38;5;241m=\u001b[39mtorch\u001b[38;5;241m.\u001b[39mfloat32)\n\u001b[1;32m      2\u001b[0m Y_tensor \u001b[38;5;241m=\u001b[39m torch\u001b[38;5;241m.\u001b[39mtensor(Y, dtype\u001b[38;5;241m=\u001b[39mtorch\u001b[38;5;241m.\u001b[39mfloat32)\n\u001b[1;32m      3\u001b[0m dataset \u001b[38;5;241m=\u001b[39m TensorDataset(X_tensor, Y_tensor)\n",
      "\u001b[0;31mNameError\u001b[0m: name 'X' is not defined"
     ]
    }
   ],
   "source": [
    "X_tensor = torch.tensor(X, dtype=torch.float32)\n",
    "Y_tensor = torch.tensor(Y, dtype=torch.float32)\n",
    "dataset = TensorDataset(X_tensor, Y_tensor)\n",
    "dataloader = DataLoader(dataset, batch_size=128, shuffle=True)"
   ]
  },
  {
   "cell_type": "code",
   "execution_count": 13,
   "id": "995a860c",
   "metadata": {},
   "outputs": [],
   "source": [
    "device = \"cuda\"\n",
    "\n",
    "model = CVAE().to(device)\n",
    "optimizer = optim.Adam(model.parameters(), lr=1e-3)"
   ]
  },
  {
   "cell_type": "code",
   "execution_count": 10,
   "id": "856559dc",
   "metadata": {},
   "outputs": [
    {
     "data": {
      "text/plain": [
       "True"
      ]
     },
     "execution_count": 10,
     "metadata": {},
     "output_type": "execute_result"
    }
   ],
   "source": [
    "torch.cuda.is_available()"
   ]
  },
  {
   "cell_type": "markdown",
   "id": "c1049845",
   "metadata": {},
   "source": [
    "train"
   ]
  },
  {
   "cell_type": "code",
   "execution_count": null,
   "id": "13849298",
   "metadata": {},
   "outputs": [
    {
     "name": "stdout",
     "output_type": "stream",
     "text": [
      "Epoch 1: Loss = 0.0457\n",
      "Epoch 2: Loss = 0.0286\n",
      "Epoch 3: Loss = 0.0230\n",
      "Epoch 4: Loss = 0.0191\n",
      "Epoch 5: Loss = 0.0170\n",
      "Epoch 6: Loss = 0.0155\n",
      "Epoch 7: Loss = 0.0147\n",
      "Epoch 8: Loss = 0.0144\n",
      "Epoch 9: Loss = 0.0140\n",
      "Epoch 10: Loss = 0.0135\n",
      "Epoch 11: Loss = 0.0130\n",
      "Epoch 12: Loss = 0.0125\n",
      "Epoch 13: Loss = 0.0118\n",
      "Epoch 14: Loss = 0.0111\n",
      "Epoch 15: Loss = 0.0105\n",
      "Epoch 16: Loss = 0.0101\n",
      "Epoch 17: Loss = 0.0096\n",
      "Epoch 18: Loss = 0.0093\n",
      "Epoch 19: Loss = 0.0090\n",
      "Epoch 20: Loss = 0.0087\n",
      "Epoch 21: Loss = 0.0085\n",
      "Epoch 22: Loss = 0.0083\n",
      "Epoch 23: Loss = 0.0080\n",
      "Epoch 24: Loss = 0.0078\n",
      "Epoch 25: Loss = 0.0078\n",
      "Epoch 26: Loss = 0.0076\n",
      "Epoch 27: Loss = 0.0075\n",
      "Epoch 28: Loss = 0.0075\n",
      "Epoch 29: Loss = 0.0074\n",
      "Epoch 30: Loss = 0.0073\n",
      "Epoch 31: Loss = 0.0074\n",
      "Epoch 32: Loss = 0.0073\n",
      "Epoch 33: Loss = 0.0073\n",
      "Epoch 34: Loss = 0.0072\n",
      "Epoch 35: Loss = 0.0073\n",
      "Epoch 36: Loss = 0.0072\n",
      "Epoch 37: Loss = 0.0072\n",
      "Epoch 38: Loss = 0.0071\n",
      "Epoch 39: Loss = 0.0071\n",
      "Epoch 40: Loss = 0.0071\n",
      "Epoch 41: Loss = 0.0071\n",
      "Epoch 42: Loss = 0.0071\n",
      "Epoch 43: Loss = 0.0071\n",
      "Epoch 44: Loss = 0.0071\n",
      "Epoch 45: Loss = 0.0070\n",
      "Epoch 46: Loss = 0.0070\n",
      "Epoch 47: Loss = 0.0070\n",
      "Epoch 48: Loss = 0.0071\n",
      "Epoch 49: Loss = 0.0070\n",
      "Epoch 50: Loss = 0.0070\n",
      "Epoch 51: Loss = 0.0070\n",
      "Epoch 52: Loss = 0.0070\n",
      "Epoch 53: Loss = 0.0069\n",
      "Epoch 54: Loss = 0.0070\n",
      "Epoch 55: Loss = 0.0070\n",
      "Epoch 56: Loss = 0.0069\n",
      "Epoch 57: Loss = 0.0069\n",
      "Epoch 58: Loss = 0.0069\n",
      "Epoch 59: Loss = 0.0070\n",
      "Epoch 60: Loss = 0.0069\n",
      "Epoch 61: Loss = 0.0069\n",
      "Epoch 62: Loss = 0.0069\n",
      "Epoch 63: Loss = 0.0069\n",
      "Epoch 64: Loss = 0.0068\n",
      "Epoch 65: Loss = 0.0069\n",
      "Epoch 66: Loss = 0.0068\n",
      "Epoch 67: Loss = 0.0068\n",
      "Epoch 68: Loss = 0.0069\n",
      "Epoch 69: Loss = 0.0068\n",
      "Epoch 70: Loss = 0.0068\n",
      "Epoch 71: Loss = 0.0068\n",
      "Epoch 72: Loss = 0.0068\n",
      "Epoch 73: Loss = 0.0068\n",
      "Epoch 74: Loss = 0.0068\n",
      "Epoch 75: Loss = 0.0068\n",
      "Epoch 76: Loss = 0.0068\n",
      "Epoch 77: Loss = 0.0067\n",
      "Epoch 78: Loss = 0.0068\n",
      "Epoch 79: Loss = 0.0068\n",
      "Epoch 80: Loss = 0.0068\n",
      "Epoch 81: Loss = 0.0067\n",
      "Epoch 82: Loss = 0.0068\n",
      "Epoch 83: Loss = 0.0067\n",
      "Epoch 84: Loss = 0.0067\n",
      "Epoch 85: Loss = 0.0067\n",
      "Epoch 86: Loss = 0.0068\n",
      "Epoch 87: Loss = 0.0067\n",
      "Epoch 88: Loss = 0.0067\n",
      "Epoch 89: Loss = 0.0067\n",
      "Epoch 90: Loss = 0.0067\n",
      "Epoch 91: Loss = 0.0067\n",
      "Epoch 92: Loss = 0.0067\n",
      "Epoch 93: Loss = 0.0067\n",
      "Epoch 94: Loss = 0.0067\n",
      "Epoch 95: Loss = 0.0067\n",
      "Epoch 96: Loss = 0.0067\n",
      "Epoch 97: Loss = 0.0067\n",
      "Epoch 98: Loss = 0.0067\n",
      "Epoch 99: Loss = 0.0066\n",
      "Epoch 100: Loss = 0.0068\n"
     ]
    }
   ],
   "source": [
    "n_epochs = 100\n",
    "for epoch in range(n_epochs):\n",
    "    total_loss = 0\n",
    "    for x_batch, y_batch in dataloader:\n",
    "        x_batch = x_batch.to(device)\n",
    "        y_batch = y_batch.to(device)\n",
    "        x_recon, mu, logvar = model(x_batch, y_batch)\n",
    "        loss = loss_fn(x_recon, x_batch, mu, logvar)\n",
    "\n",
    "        optimizer.zero_grad()\n",
    "        loss.backward()\n",
    "        optimizer.step()\n",
    "\n",
    "        total_loss += loss.item()\n",
    "    \n",
    "    print(f\"Epoch {epoch+1}: Loss = {total_loss / len(dataloader):.4f}\")\n",
    "\n",
    "\n",
    "torch.save(model.state_dict(), \"results/vae_model.pth\")"
   ]
  },
  {
   "cell_type": "markdown",
   "id": "214a7978",
   "metadata": {},
   "source": [
    "sample"
   ]
  },
  {
   "cell_type": "code",
   "execution_count": 7,
   "id": "e24a510b",
   "metadata": {},
   "outputs": [],
   "source": [
    "model_path = \"results/vae_model.pth\"\n",
    "model = CVAE()\n",
    "model.load_state_dict(torch.load(model_path))\n",
    "\n",
    "from src.utils import gengrate_sample\n",
    "samples = gengrate_sample(model, cond=[57.67,-0.39],num_samples=10)"
   ]
  },
  {
   "cell_type": "code",
   "execution_count": 12,
   "id": "848b5cea",
   "metadata": {},
   "outputs": [
    {
     "data": {
      "text/plain": [
       "array([[1.9039488e-03, 4.8126930e-01, 2.0018013e+00, 5.5649504e-03],\n",
       "       [1.9165422e-03, 4.7280401e-01, 2.0007980e+00, 5.4605044e-03],\n",
       "       [1.9325553e-03, 4.7953743e-01, 2.0005460e+00, 5.4948255e-03],\n",
       "       [1.8730240e-03, 4.8521799e-01, 1.9987676e+00, 5.5047832e-03],\n",
       "       [1.9365312e-03, 4.7138542e-01, 2.0007100e+00, 5.4596197e-03],\n",
       "       [1.9236491e-03, 4.9312443e-01, 1.9991947e+00, 5.5168774e-03],\n",
       "       [1.9233082e-03, 4.9245018e-01, 1.9996445e+00, 5.6155808e-03],\n",
       "       [1.9019095e-03, 4.8488325e-01, 1.9992239e+00, 5.4932497e-03],\n",
       "       [1.9311991e-03, 4.7616094e-01, 2.0023615e+00, 5.5383351e-03],\n",
       "       [1.9136686e-03, 4.7216696e-01, 2.0019143e+00, 5.5265930e-03]],\n",
       "      dtype=float32)"
      ]
     },
     "execution_count": 12,
     "metadata": {},
     "output_type": "execute_result"
    }
   ],
   "source": [
    "samples"
   ]
  },
  {
   "cell_type": "code",
   "execution_count": 10,
   "id": "eb0044fa",
   "metadata": {},
   "outputs": [
    {
     "data": {
      "text/plain": [
       "<matplotlib.legend.Legend at 0x7fa719b51360>"
      ]
     },
     "execution_count": 10,
     "metadata": {},
     "output_type": "execute_result"
    },
    {
     "data": {
      "image/png": "[encoded data removed]",
      "text/plain": [
       "<Figure size 640x480 with 1 Axes>"
      ]
     },
     "metadata": {},
     "output_type": "display_data"
    }
   ],
   "source": [
    "plt.figure()\n",
    "plt.hist(samples[:, 0], bins=20, alpha=0.7, label='x1')\n",
    "plt.hist(samples[:, 1], bins=20, alpha=0.7, label='x2')\n",
    "plt.legend()"
   ]
  }
 ],
 "metadata": {
  "kernelspec": {
   "display_name": "drones",
   "language": "python",
   "name": "python3"
  },
  "language_info": {
   "codemirror_mode": {
    "name": "ipython",
    "version": 3
   },
   "file_extension": ".py",
   "mimetype": "text/x-python",
   "name": "python",
   "nbconvert_exporter": "python",
   "pygments_lexer": "ipython3",
   "version": "3.10.14"
  }
 },
 "nbformat": 4,
 "nbformat_minor": 5
}
